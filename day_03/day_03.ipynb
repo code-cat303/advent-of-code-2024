{
 "cells": [
  {
   "cell_type": "code",
   "execution_count": 1,
   "id": "2b076c05-6ea9-4d4c-bd04-fd8fc02ffbef",
   "metadata": {},
   "outputs": [],
   "source": [
    "import re"
   ]
  },
  {
   "cell_type": "markdown",
   "id": "da69a4e1-bee1-4752-bb17-2d97f16cb223",
   "metadata": {},
   "source": [
    "## Load"
   ]
  },
  {
   "cell_type": "code",
   "execution_count": 2,
   "id": "bf840a85-e8bb-490e-aea4-363bd765fc8b",
   "metadata": {},
   "outputs": [
    {
     "data": {
      "text/plain": [
       "19928"
      ]
     },
     "execution_count": 2,
     "metadata": {},
     "output_type": "execute_result"
    }
   ],
   "source": [
    "inputs = ''.join(open(\"data/day_03.txt\", \"r\").read())\n",
    "\n",
    "len(inputs)"
   ]
  },
  {
   "cell_type": "markdown",
   "id": "a730f18d-cf41-4519-91e0-bcc294e8326f",
   "metadata": {},
   "source": [
    "## Solution: Puzzle 1"
   ]
  },
  {
   "cell_type": "code",
   "execution_count": 3,
   "id": "5817b1c3-a89c-497a-a913-428513417a14",
   "metadata": {},
   "outputs": [
    {
     "data": {
      "text/plain": [
       "181345830"
      ]
     },
     "execution_count": 3,
     "metadata": {},
     "output_type": "execute_result"
    }
   ],
   "source": [
    "mult_pairs = re.findall(r\"mul\\((\\d{1,3}),(\\d{1,3})\\)\", inputs)\n",
    "\n",
    "res = 0\n",
    "for pair in mult_pairs:\n",
    "    res += int(pair[0]) * int(pair[1])\n",
    "\n",
    "res"
   ]
  },
  {
   "cell_type": "markdown",
   "id": "bbf52428-b720-48d6-aed3-fe79cc77df2d",
   "metadata": {},
   "source": [
    "## Solution: Puzzle 2"
   ]
  },
  {
   "cell_type": "code",
   "execution_count": 4,
   "id": "473c7edb-dba4-4a0b-9b5b-b47269a8bffb",
   "metadata": {},
   "outputs": [],
   "source": [
    "enabled_pairs = []\n",
    "\n",
    "search_string = inputs\n",
    "enabled = True\n",
    "run = True\n",
    "\n",
    "while run:\n",
    "    if enabled:\n",
    "        \n",
    "        pattern = r\"don't\"\n",
    "        stop = re.search(pattern, search_string)\n",
    "        \n",
    "        if stop is None:\n",
    "            stop_pos = len(search_string)\n",
    "            run = False\n",
    "        else:\n",
    "            stop_pos = stop.span()[1]\n",
    "            \n",
    "        enabled_string = search_string[:stop_pos] \n",
    "        \n",
    "        mult_pairs = re.findall(r\"mul\\((\\d{1,3}),(\\d{1,3})\\)\", enabled_string)\n",
    "        enabled_pairs.extend(mult_pairs)\n",
    "        \n",
    "        search_string = search_string[stop_pos:]\n",
    "        \n",
    "        enabled = False  # switch search mode\n",
    "        \n",
    "    else:\n",
    "        \n",
    "        pattern = r\"do(?!n't)\"\n",
    "        start = re.search(pattern, search_string)\n",
    "\n",
    "        if start is None:\n",
    "            run = False\n",
    "        else:\n",
    "            start_pos = start.span()[1]\n",
    "            search_string = search_string[start_pos:]\n",
    "            enabled = True\n",
    "        "
   ]
  },
  {
   "cell_type": "code",
   "execution_count": 5,
   "id": "60dac49f-4a1f-4791-9534-f2309bf7a948",
   "metadata": {},
   "outputs": [
    {
     "data": {
      "text/plain": [
       "98729041"
      ]
     },
     "execution_count": 5,
     "metadata": {},
     "output_type": "execute_result"
    }
   ],
   "source": [
    "res = 0\n",
    "for pair in enabled_pairs:\n",
    "    res += int(pair[0]) * int(pair[1])\n",
    "\n",
    "res"
   ]
  }
 ],
 "metadata": {
  "kernelspec": {
   "display_name": "Advent of Code 2024",
   "language": "python",
   "name": "adventcode24"
  },
  "language_info": {
   "codemirror_mode": {
    "name": "ipython",
    "version": 3
   },
   "file_extension": ".py",
   "mimetype": "text/x-python",
   "name": "python",
   "nbconvert_exporter": "python",
   "pygments_lexer": "ipython3",
   "version": "3.12.7"
  }
 },
 "nbformat": 4,
 "nbformat_minor": 5
}
