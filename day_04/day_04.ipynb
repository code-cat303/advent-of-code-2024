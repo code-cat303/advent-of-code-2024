{
 "cells": [
  {
   "cell_type": "code",
   "execution_count": 1,
   "id": "2b076c05-6ea9-4d4c-bd04-fd8fc02ffbef",
   "metadata": {},
   "outputs": [],
   "source": [
    "import numpy as np"
   ]
  },
  {
   "cell_type": "markdown",
   "id": "da69a4e1-bee1-4752-bb17-2d97f16cb223",
   "metadata": {},
   "source": [
    "## Load"
   ]
  },
  {
   "cell_type": "code",
   "execution_count": 2,
   "id": "bf840a85-e8bb-490e-aea4-363bd765fc8b",
   "metadata": {},
   "outputs": [],
   "source": [
    "inputs = open(\"data/day_04.txt\", \"r\").readlines()"
   ]
  },
  {
   "cell_type": "code",
   "execution_count": 3,
   "id": "a26586a8-0577-4053-8d36-c7644e944c82",
   "metadata": {},
   "outputs": [
    {
     "data": {
      "text/plain": [
       "{'A', 'M', 'S', 'X'}"
      ]
     },
     "execution_count": 3,
     "metadata": {},
     "output_type": "execute_result"
    }
   ],
   "source": [
    "# sanity check\n",
    "collapse = ''.join([line.rstrip() for line in inputs])\n",
    "set(collapse)"
   ]
  },
  {
   "cell_type": "markdown",
   "id": "9f429c5d-2337-4422-8cd7-ebca9aa3145f",
   "metadata": {},
   "source": [
    "## Prepare"
   ]
  },
  {
   "cell_type": "code",
   "execution_count": 4,
   "id": "4121535a-42ba-4a30-81b7-b89ab0dfdfe1",
   "metadata": {},
   "outputs": [
    {
     "data": {
      "text/plain": [
       "array([['S', 'M', 'M', ..., 'A', 'M', 'X'],\n",
       "       ['S', 'A', 'M', ..., 'S', 'S', 'M'],\n",
       "       ['S', 'A', 'M', ..., 'A', 'A', 'X'],\n",
       "       ...,\n",
       "       ['X', 'M', 'A', ..., 'A', 'S', 'X'],\n",
       "       ['X', 'M', 'A', ..., 'X', 'M', 'M'],\n",
       "       ['M', 'M', 'X', ..., 'X', 'M', 'S']], dtype='<U1')"
      ]
     },
     "execution_count": 4,
     "metadata": {},
     "output_type": "execute_result"
    }
   ],
   "source": [
    "input_matrix = np.array([[c for c in line.rstrip()] for line in inputs])\n",
    "input_matrix"
   ]
  },
  {
   "cell_type": "markdown",
   "id": "a730f18d-cf41-4519-91e0-bcc294e8326f",
   "metadata": {},
   "source": [
    "## Solution: Puzzle 1"
   ]
  },
  {
   "cell_type": "code",
   "execution_count": 5,
   "id": "5817b1c3-a89c-497a-a913-428513417a14",
   "metadata": {},
   "outputs": [
    {
     "name": "stdout",
     "output_type": "stream",
     "text": [
      "2646\n"
     ]
    }
   ],
   "source": [
    "# Define search matrices (6 possibilities)\n",
    "search_matrices = [\n",
    "    np.array(\n",
    "        [[\"X\", \"M\", \"A\", \"S\"]]\n",
    "    ),\n",
    "    np.array(\n",
    "        [[\"S\", \"A\", \"M\", \"X\"]]\n",
    "    ),\n",
    "    np.array(\n",
    "        [[\"S\"], [\"A\"], [\"M\"], [\"X\"]]\n",
    "    ),\n",
    "    np.array(\n",
    "        [[\"X\"], [\"M\"], [\"A\"], [\"S\"]]\n",
    "    ),\n",
    "    np.array(\n",
    "        [\n",
    "            [\"X\", \"\", \"\", \"\"],\n",
    "            [\"\", \"M\", \"\", \"\"],\n",
    "            [\"\", \"\", \"A\", \"\"],\n",
    "            [\"\", \"\", \"\", \"S\"],\n",
    "        ]\n",
    "    ),\n",
    "    np.array(\n",
    "        [\n",
    "            [\"S\", \"\", \"\", \"\"],\n",
    "            [\"\", \"A\", \"\", \"\"],\n",
    "            [\"\", \"\", \"M\", \"\"],\n",
    "            [\"\", \"\", \"\", \"X\"],\n",
    "        ]\n",
    "    ),\n",
    "        np.array(\n",
    "        [\n",
    "            [\"\", \"\", \"\", \"X\"],\n",
    "            [\"\", \"\", \"M\", \"\"],\n",
    "            [\"\", \"A\", \"\", \"\"],\n",
    "            [\"S\", \"\", \"\", \"\"],\n",
    "        ]\n",
    "    ),\n",
    "        np.array(\n",
    "        [\n",
    "            [\"\", \"\", \"\", \"S\"],\n",
    "            [\"\", \"\", \"A\", \"\"],\n",
    "            [\"\", \"M\", \"\", \"\"],\n",
    "            [\"X\", \"\", \"\", \"\"],\n",
    "        ]\n",
    "    ),\n",
    "    \n",
    "]\n",
    "\n",
    "# Loop over input matrix\n",
    "success_value = 4\n",
    "\n",
    "number_of_occurences = 0\n",
    "numb_rows = input_matrix.shape[0]\n",
    "numb_cols = input_matrix.shape[1]\n",
    "\n",
    "for search_matrix in search_matrices:\n",
    "    dims = search_matrix.shape\n",
    "    for i in range(numb_rows - dims[0]+1):\n",
    "        for j in range(numb_cols - dims[1]+1):\n",
    "            comparison_matrix = input_matrix[i:(i+dims[0]), j:(j+dims[1])] == search_matrix\n",
    "            comparison_value = comparison_matrix.sum().sum()\n",
    "            if comparison_value == success_value:\n",
    "                number_of_occurences += 1\n",
    "\n",
    "print(number_of_occurences)"
   ]
  },
  {
   "cell_type": "markdown",
   "id": "bbf52428-b720-48d6-aed3-fe79cc77df2d",
   "metadata": {},
   "source": [
    "## Solution: Puzzle 2"
   ]
  },
  {
   "cell_type": "code",
   "execution_count": null,
   "id": "473c7edb-dba4-4a0b-9b5b-b47269a8bffb",
   "metadata": {},
   "outputs": [],
   "source": [
    "# Define search matrices (6 possibilities)\n",
    "search_matrices = [\n",
    "    np.array(\n",
    "        [\n",
    "            [\"M\", \"\", \"M\"],\n",
    "            [\"\", \"A\", \"\"],\n",
    "            [\"S\", \"\", \"S\"],\n",
    "        ]\n",
    "    ),\n",
    "    np.array(\n",
    "        [\n",
    "            [\"S\", \"\", \"M\"],\n",
    "            [\"\", \"A\", \"\"],\n",
    "            [\"S\", \"\", \"M\"],\n",
    "        ]\n",
    "    ),    \n",
    "    np.array(\n",
    "        [\n",
    "            [\"S\", \"\", \"S\"],\n",
    "            [\"\", \"A\", \"\"],\n",
    "            [\"M\", \"\", \"M\"],\n",
    "        ]\n",
    "    ),    \n",
    "    np.array(\n",
    "        [\n",
    "            [\"M\", \"\", \"S\"],\n",
    "            [\"\", \"A\", \"\"],\n",
    "            [\"M\", \"\", \"S\"],\n",
    "        ]\n",
    "    ),\n",
    "    \n",
    "]\n",
    "\n",
    "# Loop over input matrix\n",
    "success_value = 4\n",
    "\n",
    "number_of_occurences = 0\n",
    "numb_rows = input_matrix.shape[0]\n",
    "numb_cols = input_matrix.shape[1]\n",
    "\n",
    "for search_matrix in search_matrices:\n",
    "    dims = search_matrix.shape\n",
    "    for i in range(numb_rows - dims[0]+1):\n",
    "        for j in range(numb_cols - dims[1]+1):\n",
    "            comparison_matrix = input_matrix[i:(i+dims[0]), j:(j+dims[1])] == search_matrix\n",
    "            comparison_value = comparison_matrix.sum().sum()\n",
    "            if comparison_value == success_value:\n",
    "                number_of_occurences += 1\n",
    "\n",
    "print(number_of_occurences)"
   ]
  },
  {
   "cell_type": "code",
   "execution_count": null,
   "id": "60dac49f-4a1f-4791-9534-f2309bf7a948",
   "metadata": {},
   "outputs": [],
   "source": []
  }
 ],
 "metadata": {
  "kernelspec": {
   "display_name": "Advent of Code 2024",
   "language": "python",
   "name": "adventcode24"
  },
  "language_info": {
   "codemirror_mode": {
    "name": "ipython",
    "version": 3
   },
   "file_extension": ".py",
   "mimetype": "text/x-python",
   "name": "python",
   "nbconvert_exporter": "python",
   "pygments_lexer": "ipython3",
   "version": "3.12.7"
  }
 },
 "nbformat": 4,
 "nbformat_minor": 5
}
