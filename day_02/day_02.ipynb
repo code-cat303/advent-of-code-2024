{
 "cells": [
  {
   "cell_type": "code",
   "execution_count": 24,
   "id": "2b076c05-6ea9-4d4c-bd04-fd8fc02ffbef",
   "metadata": {},
   "outputs": [],
   "source": [
    "import numpy as np\n",
    "import pandas as pd"
   ]
  },
  {
   "cell_type": "markdown",
   "id": "da69a4e1-bee1-4752-bb17-2d97f16cb223",
   "metadata": {},
   "source": [
    "## Load"
   ]
  },
  {
   "cell_type": "code",
   "execution_count": 11,
   "id": "bf840a85-e8bb-490e-aea4-363bd765fc8b",
   "metadata": {},
   "outputs": [],
   "source": [
    "inputs = open(\"data/day_02.txt\", \"r\").readlines()"
   ]
  },
  {
   "cell_type": "markdown",
   "id": "a2e050dc-2814-4fd9-a1d2-98cd66dbdb0e",
   "metadata": {},
   "source": [
    "## Prepare"
   ]
  },
  {
   "cell_type": "code",
   "execution_count": 27,
   "id": "0e3eee8a-7890-48f8-acdd-595f78c4bdb2",
   "metadata": {},
   "outputs": [
    {
     "data": {
      "text/plain": [
       "[array([24, 25, 28, 31, 28]),\n",
       " array([41, 44, 45, 48, 49, 50, 50]),\n",
       " array([ 5,  8, 10, 13, 15, 16, 17, 21]),\n",
       " array([11, 13, 16, 17, 19, 26]),\n",
       " array([79, 81, 78, 79, 82, 84])]"
      ]
     },
     "execution_count": 27,
     "metadata": {},
     "output_type": "execute_result"
    }
   ],
   "source": [
    "signatures = [np.array([int(word) for word in line.split()]) for line in inputs]\n",
    "signatures[:5]"
   ]
  },
  {
   "cell_type": "markdown",
   "id": "a730f18d-cf41-4519-91e0-bcc294e8326f",
   "metadata": {},
   "source": [
    "## Solution: Puzzle 1"
   ]
  },
  {
   "cell_type": "code",
   "execution_count": 55,
   "id": "5817b1c3-a89c-497a-a913-428513417a14",
   "metadata": {},
   "outputs": [],
   "source": [
    "def is_safe(signature: list[int]) -> bool:\n",
    "    \n",
    "    signature_rev = signature[::-1]\n",
    "    diff_forward = signature[1:] - signature[:-1]\n",
    "    diff_reverse = signature_rev[1:] - signature_rev[:-1]\n",
    "\n",
    "    # forward\n",
    "    if ((diff_forward > 0).all()) and ((diff_forward < 4).all()):\n",
    "        return True\n",
    "\n",
    "    # reverse\n",
    "    if ((diff_reverse > 0).all()) and ((diff_reverse < 4).all()):\n",
    "        return True\n",
    "\n",
    "    return False"
   ]
  },
  {
   "cell_type": "code",
   "execution_count": 59,
   "id": "148f92d6-a33b-4868-8f78-5779351561f4",
   "metadata": {},
   "outputs": [
    {
     "data": {
      "text/plain": [
       "379"
      ]
     },
     "execution_count": 59,
     "metadata": {},
     "output_type": "execute_result"
    }
   ],
   "source": [
    "number_of_safe_signatures = np.array(list(map(is_safe, signatures))).sum()\n",
    "print(f\"There are "
   ]
  },
  {
   "cell_type": "code",
   "execution_count": null,
   "id": "b09d31a8-7b76-43dc-85be-7bcb69b6144a",
   "metadata": {},
   "outputs": [],
   "source": []
  }
 ],
 "metadata": {
  "kernelspec": {
   "display_name": "Advent of Code 2024",
   "language": "python",
   "name": "adventcode24"
  },
  "language_info": {
   "codemirror_mode": {
    "name": "ipython",
    "version": 3
   },
   "file_extension": ".py",
   "mimetype": "text/x-python",
   "name": "python",
   "nbconvert_exporter": "python",
   "pygments_lexer": "ipython3",
   "version": "3.12.7"
  }
 },
 "nbformat": 4,
 "nbformat_minor": 5
}
