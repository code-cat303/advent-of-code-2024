{
 "cells": [
  {
   "cell_type": "code",
   "execution_count": 3,
   "id": "2b076c05-6ea9-4d4c-bd04-fd8fc02ffbef",
   "metadata": {},
   "outputs": [],
   "source": [
    "import numpy as np\n",
    "import pandas as pd"
   ]
  },
  {
   "cell_type": "markdown",
   "id": "da69a4e1-bee1-4752-bb17-2d97f16cb223",
   "metadata": {},
   "source": [
    "## Load"
   ]
  },
  {
   "cell_type": "code",
   "execution_count": 4,
   "id": "bf840a85-e8bb-490e-aea4-363bd765fc8b",
   "metadata": {},
   "outputs": [],
   "source": [
    "inputs = open(\"data/day_02.txt\", \"r\").readlines()"
   ]
  },
  {
   "cell_type": "markdown",
   "id": "a2e050dc-2814-4fd9-a1d2-98cd66dbdb0e",
   "metadata": {},
   "source": [
    "## Prepare"
   ]
  },
  {
   "cell_type": "code",
   "execution_count": 5,
   "id": "0e3eee8a-7890-48f8-acdd-595f78c4bdb2",
   "metadata": {},
   "outputs": [
    {
     "data": {
      "text/plain": [
       "[array([24, 25, 28, 31, 28]),\n",
       " array([41, 44, 45, 48, 49, 50, 50]),\n",
       " array([ 5,  8, 10, 13, 15, 16, 17, 21]),\n",
       " array([11, 13, 16, 17, 19, 26]),\n",
       " array([79, 81, 78, 79, 82, 84])]"
      ]
     },
     "execution_count": 5,
     "metadata": {},
     "output_type": "execute_result"
    }
   ],
   "source": [
    "signatures = [np.array([int(word) for word in line.split()]) for line in inputs]\n",
    "signatures[:5]"
   ]
  },
  {
   "cell_type": "markdown",
   "id": "a730f18d-cf41-4519-91e0-bcc294e8326f",
   "metadata": {},
   "source": [
    "## Solution: Puzzle 1"
   ]
  },
  {
   "cell_type": "code",
   "execution_count": 8,
   "id": "5817b1c3-a89c-497a-a913-428513417a14",
   "metadata": {},
   "outputs": [],
   "source": [
    "def is_safe(signature: list[int]) -> bool:\n",
    "    \n",
    "    signature_rev = signature[::-1]\n",
    "    diff_forward = signature[1:] - signature[:-1]\n",
    "    diff_reverse = signature_rev[1:] - signature_rev[:-1]\n",
    "\n",
    "    # forward\n",
    "    if ((diff_forward > 0).all()) and ((diff_forward < 4).all()):\n",
    "        return True\n",
    "\n",
    "    # reverse\n",
    "    if ((diff_reverse > 0).all()) and ((diff_reverse < 4).all()):\n",
    "        return True\n",
    "\n",
    "    return False"
   ]
  },
  {
   "cell_type": "code",
   "execution_count": 25,
   "id": "148f92d6-a33b-4868-8f78-5779351561f4",
   "metadata": {},
   "outputs": [
    {
     "name": "stdout",
     "output_type": "stream",
     "text": [
      "Number of safe signatures: 379\n"
     ]
    }
   ],
   "source": [
    "number_of_safe_signatures = np.array(list(map(is_safe, signatures))).sum()\n",
    "print(f\"Number of safe signatures: {number_of_safe_signatures}\")"
   ]
  },
  {
   "cell_type": "markdown",
   "id": "bbf52428-b720-48d6-aed3-fe79cc77df2d",
   "metadata": {},
   "source": [
    "## Solution: Puzzle 2"
   ]
  },
  {
   "cell_type": "code",
   "execution_count": 40,
   "id": "a86e92f3-bdca-4e4c-81da-a48b43db4f9a",
   "metadata": {},
   "outputs": [],
   "source": [
    "def generate_sub_signatures(signature: np.array) -> list:\n",
    "    res = []\n",
    "    for i in range(signature.shape[0]):\n",
    "        sub_signature = np.delete(signature, i)\n",
    "        res.append(sub_signature)\n",
    "    return res\n",
    "\n",
    "def is_safe_with_sub_signatures(signature: list[int]) -> bool:\n",
    "    if is_safe(signature):\n",
    "        return True\n",
    "    for sub_signature in generate_sub_signatures(signature):\n",
    "        "
   ]
  },
  {
   "cell_type": "code",
   "execution_count": null,
   "id": "cd053525-8336-4234-821d-56fb779ef05a",
   "metadata": {},
   "outputs": [],
   "source": []
  },
  {
   "cell_type": "code",
   "execution_count": null,
   "id": "473c7edb-dba4-4a0b-9b5b-b47269a8bffb",
   "metadata": {},
   "outputs": [],
   "source": [
    "number_of_safe_signatures = np.array(list(map(is_safe, signatures))).sum()\n",
    "print(f\"Number of safe signatures: {number_of_safe_signatures}\")"
   ]
  },
  {
   "cell_type": "code",
   "execution_count": 41,
   "id": "33cfb1a3-597c-4b6a-8148-156814703662",
   "metadata": {},
   "outputs": [
    {
     "data": {
      "text/plain": [
       "[array([25, 28, 31, 28]),\n",
       " array([24, 28, 31, 28]),\n",
       " array([24, 25, 31, 28]),\n",
       " array([24, 25, 28, 28]),\n",
       " array([24, 25, 28, 31])]"
      ]
     },
     "execution_count": 41,
     "metadata": {},
     "output_type": "execute_result"
    }
   ],
   "source": [
    "generate_sub_signatures(signatures[0])"
   ]
  }
 ],
 "metadata": {
  "kernelspec": {
   "display_name": "Advent of Code 2024",
   "language": "python",
   "name": "adventcode24"
  },
  "language_info": {
   "codemirror_mode": {
    "name": "ipython",
    "version": 3
   },
   "file_extension": ".py",
   "mimetype": "text/x-python",
   "name": "python",
   "nbconvert_exporter": "python",
   "pygments_lexer": "ipython3",
   "version": "3.12.7"
  }
 },
 "nbformat": 4,
 "nbformat_minor": 5
}
